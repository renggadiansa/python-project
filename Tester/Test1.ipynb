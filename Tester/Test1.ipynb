{
 "cells": [
  {
   "cell_type": "code",
   "execution_count": 2,
   "metadata": {
    "scrolled": false
   },
   "outputs": [
    {
     "name": "stdout",
     "output_type": "stream",
     "text": [
      "   Direction  Year        Date    Weekday Measure      Value  Cumulative  \\\n",
      "0    Exports  2015    1/1/2015   Thursday       $  104000000   104000000   \n",
      "1    Exports  2015    2/1/2015     Friday       $   96000000   200000000   \n",
      "2    Exports  2015    3/1/2015   Saturday       $   61000000   262000000   \n",
      "3    Exports  2015    4/1/2015     Sunday       $   74000000   336000000   \n",
      "4    Exports  2015    5/1/2015     Monday       $  105000000   442000000   \n",
      "5    Exports  2015    6/1/2015    Tuesday       $   76000000   518000000   \n",
      "6    Exports  2015    7/1/2015  Wednesday       $   59000000   577000000   \n",
      "7    Exports  2015    8/1/2015   Thursday       $  111000000   688000000   \n",
      "8    Exports  2015    9/1/2015     Friday       $   98000000   786000000   \n",
      "9    Exports  2015   10/1/2015   Saturday       $   89000000   875000000   \n",
      "10   Exports  2015   11/1/2015     Sunday       $  111000000   986000000   \n",
      "11   Exports  2015   12/1/2015     Monday       $  161000000  1147000000   \n",
      "12   Exports  2015  13/01/2015    Tuesday       $   96000000  1242000000   \n",
      "13   Exports  2015  14/01/2015  Wednesday       $   83000000  1325000000   \n",
      "14   Exports  2015  15/01/2015   Thursday       $  109000000  1434000000   \n",
      "15   Exports  2015  16/01/2015     Friday       $  155000000  1589000000   \n",
      "16   Exports  2015  17/01/2015   Saturday       $  168000000  1757000000   \n",
      "17   Exports  2015  18/01/2015     Sunday       $   90000000  1847000000   \n",
      "18   Exports  2015  19/01/2015     Monday       $  164000000  2011000000   \n",
      "19   Exports  2015  20/01/2015    Tuesday       $  134000000  2145000000   \n",
      "\n",
      "   Country Commodity Transport_Mode  \n",
      "0      All       All            All  \n",
      "1      All       All            All  \n",
      "2      All       All            All  \n",
      "3      All       All            All  \n",
      "4      All       All            All  \n",
      "5      All       All            All  \n",
      "6      All       All            All  \n",
      "7      All       All            All  \n",
      "8      All       All            All  \n",
      "9      All       All            All  \n",
      "10     All       All            All  \n",
      "11     All       All            All  \n",
      "12     All       All            All  \n",
      "13     All       All            All  \n",
      "14     All       All            All  \n",
      "15     All       All            All  \n",
      "16     All       All            All  \n",
      "17     All       All            All  \n",
      "18     All       All            All  \n",
      "19     All       All            All  \n"
     ]
    }
   ],
   "source": [
    "# Pakage / Library\n",
    "import pandas as pd\n",
    "import numpy as np\n",
    "import matplotlib.pyplot as plt\n",
    "import seaborn as sns\n",
    "from sklearn import preprocessing\n",
    "from sklearn.preprocessing import MinMaxScaler\n",
    "from sklearn.metrics import accuracy_score\n",
    "from sklearn.cluster import KMeans\n",
    "\n",
    "# Import Dataset\n",
    "dataset = pd.read_csv(\"..//trade1.csv\")\n",
    "print(dataset.head(20))"
   ]
  },
  {
   "cell_type": "code",
   "execution_count": 16,
   "metadata": {},
   "outputs": [
    {
     "name": "stdout",
     "output_type": "stream",
     "text": [
      "<class 'pandas.core.frame.DataFrame'>\n",
      "RangeIndex: 98507 entries, 0 to 98506\n",
      "Data columns (total 4 columns):\n",
      " #   Column      Non-Null Count  Dtype         \n",
      "---  ------      --------------  -----         \n",
      " 0   Year        98507 non-null  int64         \n",
      " 1   Date        98507 non-null  datetime64[ns]\n",
      " 2   Value       98507 non-null  int64         \n",
      " 3   Cumulative  98507 non-null  int64         \n",
      "dtypes: datetime64[ns](1), int64(3)\n",
      "memory usage: 3.0 MB\n"
     ]
    }
   ],
   "source": [
    "# Variable Info\n",
    "dataset.info()"
   ]
  },
  {
   "cell_type": "code",
   "execution_count": null,
   "metadata": {},
   "outputs": [],
   "source": [
    "# Cleaning Data\n",
    "dataset = dataset.drop([\n",
    "    \"Direction\",\n",
    "    \"Weekday\",\n",
    "    \"Measure\",\n",
    "    \"Country\",\n",
    "    \"Commodity\",\n",
    "    \"Transport_Mode\"],\n",
    "    axis = 1)\n",
    "dataset.head(20)\n",
    "\n",
    "# DON'T RUN AGAIN THIS CODE"
   ]
  },
  {
   "cell_type": "code",
   "execution_count": 19,
   "metadata": {},
   "outputs": [
    {
     "data": {
      "text/plain": [
       "Year                   int64\n",
       "Date          datetime64[ns]\n",
       "Value                  int64\n",
       "Cumulative             int64\n",
       "dtype: object"
      ]
     },
     "execution_count": 19,
     "metadata": {},
     "output_type": "execute_result"
    }
   ],
   "source": [
    "# Normalization\n",
    "\n",
    "# Update Data\n",
    "dataset[\"Date\"] = dataset[\"Date\"].astype('datetime64[ns]')\n",
    "dataset.dtypes # to show data"
   ]
  },
  {
   "cell_type": "code",
   "execution_count": 10,
   "metadata": {},
   "outputs": [
    {
     "data": {
      "text/plain": [
       "Year\n",
       "2015    16005\n",
       "2016    16028\n",
       "2017    15995\n",
       "2018    16019\n",
       "2019    16017\n",
       "2020    16031\n",
       "2021     2412\n",
       "Name: Year, dtype: int64"
      ]
     },
     "execution_count": 10,
     "metadata": {},
     "output_type": "execute_result"
    }
   ],
   "source": [
    "# Grouping Data\n",
    "dataset_groupby_Year = dataset.groupby(\"Year\")\n",
    "dataset_groupby_Year[\"Year\"].count()"
   ]
  },
  {
   "cell_type": "code",
   "execution_count": 30,
   "metadata": {},
   "outputs": [
    {
     "data": {
      "text/html": [
       "<div>\n",
       "<style scoped>\n",
       "    .dataframe tbody tr th:only-of-type {\n",
       "        vertical-align: middle;\n",
       "    }\n",
       "\n",
       "    .dataframe tbody tr th {\n",
       "        vertical-align: top;\n",
       "    }\n",
       "\n",
       "    .dataframe thead th {\n",
       "        text-align: right;\n",
       "    }\n",
       "</style>\n",
       "<table border=\"1\" class=\"dataframe\">\n",
       "  <thead>\n",
       "    <tr style=\"text-align: right;\">\n",
       "      <th></th>\n",
       "      <th>Value</th>\n",
       "      <th>Cumulative</th>\n",
       "    </tr>\n",
       "    <tr>\n",
       "      <th>Year</th>\n",
       "      <th></th>\n",
       "      <th></th>\n",
       "    </tr>\n",
       "  </thead>\n",
       "  <tbody>\n",
       "    <tr>\n",
       "      <th>2015</th>\n",
       "      <td>2.550866e+07</td>\n",
       "      <td>4.594115e+09</td>\n",
       "    </tr>\n",
       "    <tr>\n",
       "      <th>2016</th>\n",
       "      <td>2.518743e+07</td>\n",
       "      <td>4.591304e+09</td>\n",
       "    </tr>\n",
       "    <tr>\n",
       "      <th>2017</th>\n",
       "      <td>2.781532e+07</td>\n",
       "      <td>4.926312e+09</td>\n",
       "    </tr>\n",
       "    <tr>\n",
       "      <th>2018</th>\n",
       "      <td>3.015929e+07</td>\n",
       "      <td>5.392358e+09</td>\n",
       "    </tr>\n",
       "    <tr>\n",
       "      <th>2019</th>\n",
       "      <td>3.121065e+07</td>\n",
       "      <td>5.638055e+09</td>\n",
       "    </tr>\n",
       "    <tr>\n",
       "      <th>2020</th>\n",
       "      <td>2.984876e+07</td>\n",
       "      <td>5.441778e+09</td>\n",
       "    </tr>\n",
       "    <tr>\n",
       "      <th>2021</th>\n",
       "      <td>2.848019e+07</td>\n",
       "      <td>7.521480e+08</td>\n",
       "    </tr>\n",
       "  </tbody>\n",
       "</table>\n",
       "</div>"
      ],
      "text/plain": [
       "             Value    Cumulative\n",
       "Year                            \n",
       "2015  2.550866e+07  4.594115e+09\n",
       "2016  2.518743e+07  4.591304e+09\n",
       "2017  2.781532e+07  4.926312e+09\n",
       "2018  3.015929e+07  5.392358e+09\n",
       "2019  3.121065e+07  5.638055e+09\n",
       "2020  2.984876e+07  5.441778e+09\n",
       "2021  2.848019e+07  7.521480e+08"
      ]
     },
     "execution_count": 30,
     "metadata": {},
     "output_type": "execute_result"
    }
   ],
   "source": [
    "# Min - Max - Mean\n",
    "dataset_groupby_Year[[\"Value\",\"Cumulative\"]].mean()"
   ]
  },
  {
   "cell_type": "code",
   "execution_count": 39,
   "metadata": {},
   "outputs": [
    {
     "data": {
      "text/html": [
       "<div>\n",
       "<style scoped>\n",
       "    .dataframe tbody tr th:only-of-type {\n",
       "        vertical-align: middle;\n",
       "    }\n",
       "\n",
       "    .dataframe tbody tr th {\n",
       "        vertical-align: top;\n",
       "    }\n",
       "\n",
       "    .dataframe thead th {\n",
       "        text-align: right;\n",
       "    }\n",
       "</style>\n",
       "<table border=\"1\" class=\"dataframe\">\n",
       "  <thead>\n",
       "    <tr style=\"text-align: right;\">\n",
       "      <th></th>\n",
       "      <th>Year</th>\n",
       "      <th>Date</th>\n",
       "      <th>Value</th>\n",
       "      <th>Cumulative</th>\n",
       "    </tr>\n",
       "  </thead>\n",
       "  <tbody>\n",
       "    <tr>\n",
       "      <th>6914</th>\n",
       "      <td>2015</td>\n",
       "      <td>2015-01-01</td>\n",
       "      <td>0</td>\n",
       "      <td>0</td>\n",
       "    </tr>\n",
       "    <tr>\n",
       "      <th>9811</th>\n",
       "      <td>2015</td>\n",
       "      <td>2015-01-01</td>\n",
       "      <td>0</td>\n",
       "      <td>0</td>\n",
       "    </tr>\n",
       "    <tr>\n",
       "      <th>9098</th>\n",
       "      <td>2015</td>\n",
       "      <td>2015-01-01</td>\n",
       "      <td>1000</td>\n",
       "      <td>1000</td>\n",
       "    </tr>\n",
       "    <tr>\n",
       "      <th>10537</th>\n",
       "      <td>2015</td>\n",
       "      <td>2015-01-01</td>\n",
       "      <td>1000</td>\n",
       "      <td>1000</td>\n",
       "    </tr>\n",
       "    <tr>\n",
       "      <th>8368</th>\n",
       "      <td>2015</td>\n",
       "      <td>2015-01-01</td>\n",
       "      <td>2000</td>\n",
       "      <td>2000</td>\n",
       "    </tr>\n",
       "    <tr>\n",
       "      <th>...</th>\n",
       "      <td>...</td>\n",
       "      <td>...</td>\n",
       "      <td>...</td>\n",
       "      <td>...</td>\n",
       "    </tr>\n",
       "    <tr>\n",
       "      <th>96687</th>\n",
       "      <td>2021</td>\n",
       "      <td>2021-12-02</td>\n",
       "      <td>105000000</td>\n",
       "      <td>5448000000</td>\n",
       "    </tr>\n",
       "    <tr>\n",
       "      <th>96137</th>\n",
       "      <td>2021</td>\n",
       "      <td>2021-12-02</td>\n",
       "      <td>118000000</td>\n",
       "      <td>6052000000</td>\n",
       "    </tr>\n",
       "    <tr>\n",
       "      <th>98168</th>\n",
       "      <td>2021</td>\n",
       "      <td>2021-12-02</td>\n",
       "      <td>163000000</td>\n",
       "      <td>5468000000</td>\n",
       "    </tr>\n",
       "    <tr>\n",
       "      <th>98441</th>\n",
       "      <td>2021</td>\n",
       "      <td>2021-12-02</td>\n",
       "      <td>167000000</td>\n",
       "      <td>5356000000</td>\n",
       "    </tr>\n",
       "    <tr>\n",
       "      <th>97895</th>\n",
       "      <td>2021</td>\n",
       "      <td>2021-12-02</td>\n",
       "      <td>204000000</td>\n",
       "      <td>6852000000</td>\n",
       "    </tr>\n",
       "  </tbody>\n",
       "</table>\n",
       "<p>98507 rows × 4 columns</p>\n",
       "</div>"
      ],
      "text/plain": [
       "       Year       Date      Value  Cumulative\n",
       "6914   2015 2015-01-01          0           0\n",
       "9811   2015 2015-01-01          0           0\n",
       "9098   2015 2015-01-01       1000        1000\n",
       "10537  2015 2015-01-01       1000        1000\n",
       "8368   2015 2015-01-01       2000        2000\n",
       "...     ...        ...        ...         ...\n",
       "96687  2021 2021-12-02  105000000  5448000000\n",
       "96137  2021 2021-12-02  118000000  6052000000\n",
       "98168  2021 2021-12-02  163000000  5468000000\n",
       "98441  2021 2021-12-02  167000000  5356000000\n",
       "97895  2021 2021-12-02  204000000  6852000000\n",
       "\n",
       "[98507 rows x 4 columns]"
      ]
     },
     "execution_count": 39,
     "metadata": {},
     "output_type": "execute_result"
    }
   ],
   "source": [
    "# Selection\n",
    "# Sorting Multiple column\n",
    "# descending (ascending=False)/ ascending (ascending=True)\n",
    "\n",
    "dataset.sort_values(by=[\"Date\", \"Value\"])"
   ]
  },
  {
   "cell_type": "code",
   "execution_count": 40,
   "metadata": {},
   "outputs": [],
   "source": [
    "# Redudance"
   ]
  },
  {
   "cell_type": "code",
   "execution_count": 45,
   "metadata": {
    "scrolled": false
   },
   "outputs": [
    {
     "data": {
      "image/png": "[encoded data removed]",
      "text/plain": [
       "<Figure size 432x288 with 1 Axes>"
      ]
     },
     "metadata": {
      "needs_background": "light"
     },
     "output_type": "display_data"
    }
   ],
   "source": [
    "# Load and Plot\n",
    "from pandas import read_csv\n",
    "from matplotlib import pyplot\n",
    "\n",
    "# Load data\n",
    "path = \"..//trade1.csv\"\n",
    "df = read_csv(path, header = 0)\n",
    "\n",
    "# Plot\n",
    "df.plot()\n",
    "pyplot.show()"
   ]
  },
  {
   "cell_type": "code",
   "execution_count": null,
   "metadata": {},
   "outputs": [],
   "source": []
  }
 ],
 "metadata": {
  "kernelspec": {
   "display_name": "Python 3",
   "language": "python",
   "name": "python3"
  },
  "language_info": {
   "codemirror_mode": {
    "name": "ipython",
    "version": 3
   },
   "file_extension": ".py",
   "mimetype": "text/x-python",
   "name": "python",
   "nbconvert_exporter": "python",
   "pygments_lexer": "ipython3",
   "version": "3.8.5"
  }
 },
 "nbformat": 4,
 "nbformat_minor": 4
}
